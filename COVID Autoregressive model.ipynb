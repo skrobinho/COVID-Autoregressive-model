{
 "cells": [
  {
   "cell_type": "code",
   "execution_count": null,
   "metadata": {
    "application/vnd.databricks.v1+cell": {
     "inputWidgets": {},
     "nuid": "b96bd065-c9ea-4d5b-b412-0fcaed56c8a7",
     "showTitle": false,
     "title": ""
    }
   },
   "outputs": [],
   "source": [
    "import pandas as pd\n",
    "import numpy as np\n",
    "import matplotlib as mpl\n",
    "import matplotlib.pyplot as plt\n",
    "import seaborn as sns\n",
    "import itertools\n",
    "from itertools import combinations\n",
    "import statsmodels.api as sm"
   ]
  },
  {
   "cell_type": "code",
   "execution_count": null,
   "metadata": {
    "application/vnd.databricks.v1+cell": {
     "inputWidgets": {},
     "nuid": "6482be4c-f067-47c9-b0ac-35c938b94601",
     "showTitle": true,
     "title": "Wczytywanie pliku csv z danymi"
    }
   },
   "outputs": [],
   "source": [
    "# File location and type\n",
    "file_location = \"/FileStore/tables/COVID_19-991e0.csv\"\n",
    "file_type = \"csv\"\n",
    "\n",
    "# CSV options\n",
    "infer_schema = \"false\"\n",
    "first_row_is_header = \"true\"\n",
    "delimiter = \",\"\n",
    "\n",
    "# The applied options are for CSV files. For other file types, these will be ignored.\n",
    "df = spark.read.format(file_type) \\\n",
    "  .option(\"inferSchema\", infer_schema) \\\n",
    "  .option(\"header\", first_row_is_header) \\\n",
    "  .option(\"sep\", delimiter) \\\n",
    "  .load(file_location)\n",
    "\n",
    "display(df)"
   ]
  },
  {
   "cell_type": "code",
   "execution_count": null,
   "metadata": {
    "application/vnd.databricks.v1+cell": {
     "inputWidgets": {},
     "nuid": "bd82bb99-1479-4d5c-be10-8c36df0f1d44",
     "showTitle": true,
     "title": "Przekształcanie danych na DataFrame pandas"
    }
   },
   "outputs": [],
   "source": [
    "covid = df.toPandas()\n",
    "covid = covid.loc[covid['countriesAndTerritories'].isin(['France', 'Germany','Italy', 'Spain', 'United_Kingdom'])][['dateRep', 'cases', 'deaths', 'countriesAndTerritories', 'popData2018']].rename(columns={'dateRep': 'date', 'countriesAndTerritories': 'country', 'popData2018': 'population'}).reset_index(drop=True).astype({\"cases\": int, \"deaths\": int, \"population\": int}) #pozostawienie danych dla 5 najludniejszych krajów Europy Zachodniej\n",
    "\n",
    "covid['cases'] = covid['cases'].abs() \n",
    "covid['deaths'] = covid['deaths'].abs() \n",
    "covid['date'] = pd.to_datetime(covid['date'], format='%d/%m/%Y') \n",
    "\n",
    "covid = covid.loc[covid['date'] > '2020-02-15']\n",
    "\n",
    "covid['cases_per_100k'] = covid['cases']/covid['population']*100000\n",
    "covid['deaths_per_100k'] = covid['deaths']/covid['population']*100000\n",
    "\n",
    "covid.head()"
   ]
  },
  {
   "cell_type": "code",
   "execution_count": null,
   "metadata": {
    "application/vnd.databricks.v1+cell": {
     "inputWidgets": {},
     "nuid": "66f551d9-5b23-4887-8ef5-9fad5c0f88d5",
     "showTitle": true,
     "title": "Wyznaczenie unikalnych par państw"
    }
   },
   "outputs": [],
   "source": [
    "countries = list(covid['country'].unique())\n",
    "countries = [\",\".join(map(str, comb)) for comb in combinations(countries, 2)]\n",
    "pairs = []\n",
    "[pairs.append(countries[i].split(\"delimiter\")) for i in range(len(countries))]\n",
    "country_pairs = []\n",
    "[country_pairs.append(pairs[i][0].split(\",\")) for i in range(len(pairs))]\n",
    "country_pairs;"
   ]
  },
  {
   "cell_type": "code",
   "execution_count": null,
   "metadata": {
    "application/vnd.databricks.v1+cell": {
     "inputWidgets": {},
     "nuid": "ab0a8b07-1327-4a1f-ab2d-db81b4a45be8",
     "showTitle": true,
     "title": "Wykresy porównujące liczbę zachorowań na 100 000 mieszkańców między dwoma państwami"
    }
   },
   "outputs": [],
   "source": [
    "for i in range(len(country_pairs)):\n",
    "    fig = plt.figure(figsize=(20,10))\n",
    "\n",
    "    chart = sns.lineplot(x='date',\n",
    "                         y='cases_per_100k',\n",
    "                         color='r',linestyle='-', marker='o',\n",
    "                         data = covid[covid['country'] == country_pairs[i][0]] \n",
    "                        )\n",
    "\n",
    "    chart = sns.lineplot(x='date',\n",
    "                         y='cases_per_100k',\n",
    "                         color='g',linestyle='-', marker='o',\n",
    "                         data = covid[covid['country'] == country_pairs[i][1]]\n",
    "                        )\n",
    "\n",
    "    chart.set_title(f'COVID-19 Cases per 100k, {country_pairs[i][0]} vs {country_pairs[i][1]}')\n",
    "\n",
    "    fig.legend(labels=[country_pairs[i][0], country_pairs[i][1]])\n",
    "    \n",
    "    plt.xticks(rotation=45)\n",
    "    plt.show();\n",
    "    "
   ]
  },
  {
   "cell_type": "code",
   "execution_count": null,
   "metadata": {
    "application/vnd.databricks.v1+cell": {
     "inputWidgets": {},
     "nuid": "2bcf2fbf-8e7c-463f-a516-5fd3e0ec6d9c",
     "showTitle": true,
     "title": "Wykres przypadków zachorowań na 100 000 mieszkańców dla wszystkich państw"
    }
   },
   "outputs": [],
   "source": [
    "plt.figure(figsize=(20,10))\n",
    "\n",
    "chart = sns.lineplot(x='date',\n",
    "                     y='cases_per_100k',\n",
    "                     hue='country',linestyle='-', marker='o',   \n",
    "                     data=covid\n",
    "                    )\n",
    "\n",
    "chart.set_title('COVID-19 Cases per 100k')\n",
    "\n",
    "plt.xticks(rotation=45)\n",
    "plt.show();"
   ]
  },
  {
   "cell_type": "code",
   "execution_count": null,
   "metadata": {
    "application/vnd.databricks.v1+cell": {
     "inputWidgets": {},
     "nuid": "25ae14df-0390-44f8-96f6-c9db20d2d8a0",
     "showTitle": true,
     "title": "Parametry metody Seasonal AutoRegressive Integrated Moving Average with eXogenous regressors model (SARIMAX)"
    }
   },
   "outputs": [],
   "source": [
    "p = d = q = range(0, 2)\n",
    "pdq = list(itertools.product(p, d, q))\n",
    "seasonal_pdq = [(x[0], x[1], x[2], 12) for x in list(itertools.product(p, d, q))]"
   ]
  },
  {
   "cell_type": "code",
   "execution_count": null,
   "metadata": {
    "application/vnd.databricks.v1+cell": {
     "inputWidgets": {},
     "nuid": "03999a6a-4bb1-47e9-9e51-f7377874adf4",
     "showTitle": true,
     "title": "DataFrame jedynie z datą do stworzenia predykcji (przypadek ograniczony dla Włoch)"
    }
   },
   "outputs": [],
   "source": [
    "y = covid[covid['country'] == 'Italy'][['date', 'cases']].set_index('date').iloc[::-1]"
   ]
  },
  {
   "cell_type": "code",
   "execution_count": null,
   "metadata": {
    "application/vnd.databricks.v1+cell": {
     "inputWidgets": {},
     "nuid": "ec9828d1-09d6-4de7-b045-7cae1f7c4bdb",
     "showTitle": true,
     "title": "Dobór najlepszego modelu wg. kryterium informacyjnego Akaikego (AIC)"
    }
   },
   "outputs": [],
   "source": [
    "aic = 2000\n",
    "\n",
    "for param in pdq:\n",
    "    for param_seasonal in seasonal_pdq:\n",
    "        try:\n",
    "            mod = sm.tsa.statespace.SARIMAX(y,\n",
    "                                            order=param,\n",
    "                                            seasonal_order=param_seasonal,\n",
    "                                            enforce_stationarity=False,\n",
    "                                            enforce_invertibility=False);\n",
    "            results = mod.fit();\n",
    "            #print('ARIMA{}x{} - AIC:{}'.format(param, param_seasonal, results.aic))\n",
    "            if results.aic < aic:\n",
    "              aic = results.aic\n",
    "              p = param\n",
    "              p_s = param_seasonal\n",
    "        except:\n",
    "            continue\n",
    "\n",
    "print(aic, p, p_s)            "
   ]
  },
  {
   "cell_type": "code",
   "execution_count": null,
   "metadata": {
    "application/vnd.databricks.v1+cell": {
     "inputWidgets": {},
     "nuid": "7620f790-feb8-48ca-8d0e-0a8e80e303fb",
     "showTitle": true,
     "title": "Stworzenie modelu z najmniejszym AIC"
    }
   },
   "outputs": [],
   "source": [
    "mod = sm.tsa.statespace.SARIMAX(y,\n",
    "                                order=p,\n",
    "                                seasonal_order=p_s,\n",
    "                                enforce_stationarity=False,\n",
    "                                enforce_invertibility=False)\n",
    "results = mod.fit();"
   ]
  },
  {
   "cell_type": "code",
   "execution_count": null,
   "metadata": {
    "application/vnd.databricks.v1+cell": {
     "inputWidgets": {},
     "nuid": "2fc20b5a-db93-4986-8248-eb4230d3d7d8",
     "showTitle": true,
     "title": "Porównanie rzeczywistych wyników z estymowanymi"
    }
   },
   "outputs": [],
   "source": [
    "pred = results.get_prediction(start=pd.to_datetime('2020-02-16'), dynamic=False)\n",
    "pred_ci = pred.conf_int()\n",
    "ax = y.plot(label='Observed')\n",
    "pred.predicted_mean.plot(ax=ax, label='Forecast', alpha=.7, figsize=(20, 10))\n",
    "ax.fill_between(pred_ci.index,\n",
    "                pred_ci.iloc[:, 0],\n",
    "                pred_ci.iloc[:, 1], color='k', alpha=.2)\n",
    "ax.set_xlabel('Date')\n",
    "ax.set_ylabel('COVID-19 cases')\n",
    "plt.legend()\n",
    "plt.show()"
   ]
  },
  {
   "cell_type": "code",
   "execution_count": null,
   "metadata": {
    "application/vnd.databricks.v1+cell": {
     "inputWidgets": {},
     "nuid": "0ff5909e-03c7-46d7-8d22-fd198700c7cd",
     "showTitle": true,
     "title": "Predykcja krzywej na następne 15 dni"
    }
   },
   "outputs": [],
   "source": [
    "pred_uc = results.get_forecast(steps=30)\n",
    "pred_ci = pred_uc.conf_int()\n",
    "ax = y.plot(label='Observed', figsize=(20, 10))\n",
    "pred_uc.predicted_mean.plot(ax=ax, label='Forecast')\n",
    "\n",
    "ax.set_xlabel('Date')\n",
    "ax.set_ylabel('COVID-19 cases')\n",
    "plt.legend()\n",
    "plt.show()"
   ]
  },
  {
   "cell_type": "code",
   "execution_count": null,
   "metadata": {
    "application/vnd.databricks.v1+cell": {
     "inputWidgets": {},
     "nuid": "6334dc47-4f3d-4195-8a31-406ecd45533a",
     "showTitle": true,
     "title": "Poniżej analogiczne wykresy dla przypadków zgonów"
    }
   },
   "outputs": [],
   "source": [
    "for i in range(len(country_pairs)):\n",
    "    fig = plt.figure(figsize=(20,10))\n",
    "\n",
    "    chart = sns.lineplot(x='date',\n",
    "                         y='deaths_per_100k',\n",
    "                         color='r',linestyle='-', marker='o',\n",
    "                         data = covid[covid['country'] == country_pairs[i][0]] \n",
    "                        )\n",
    "\n",
    "    chart = sns.lineplot(x='date',\n",
    "                         y='deaths_per_100k',\n",
    "                         color='g',linestyle='-', marker='o',\n",
    "                         data = covid[covid['country'] == country_pairs[i][1]]\n",
    "                        )\n",
    "\n",
    "    chart.set_title(f'COVID-19 Deaths per 100k, {country_pairs[i][0]} vs {country_pairs[i][1]}')\n",
    "\n",
    "    fig.legend(labels=[country_pairs[i][0], country_pairs[i][1]])\n",
    "    \n",
    "    plt.xticks(rotation=45)\n",
    "    plt.show();"
   ]
  },
  {
   "cell_type": "code",
   "execution_count": null,
   "metadata": {
    "application/vnd.databricks.v1+cell": {
     "inputWidgets": {},
     "nuid": "81c38fea-6c97-4cd7-a0ed-a3addb9b0d6c",
     "showTitle": false,
     "title": ""
    }
   },
   "outputs": [],
   "source": [
    "plt.figure(figsize=(20,10))\n",
    "\n",
    "chart = sns.lineplot(x='date',\n",
    "                     y='deaths_per_100k',\n",
    "                     hue='country',linestyle='-', marker='o',   \n",
    "                     data=covid\n",
    "                    )\n",
    "\n",
    "chart.set_title('COVID-19 Deaths per 100k')\n",
    "\n",
    "plt.xticks(rotation=45)\n",
    "plt.show();"
   ]
  },
  {
   "cell_type": "code",
   "execution_count": null,
   "metadata": {
    "application/vnd.databricks.v1+cell": {
     "inputWidgets": {},
     "nuid": "0c0f52d1-a0aa-4c1e-87ee-cde663668b24",
     "showTitle": false,
     "title": ""
    }
   },
   "outputs": [],
   "source": [
    "p = d = q = range(0, 2)\n",
    "pdq = list(itertools.product(p, d, q))\n",
    "seasonal_pdq = [(x[0], x[1], x[2], 12) for x in list(itertools.product(p, d, q))]"
   ]
  },
  {
   "cell_type": "code",
   "execution_count": null,
   "metadata": {
    "application/vnd.databricks.v1+cell": {
     "inputWidgets": {},
     "nuid": "cd3165ca-9351-4ca9-8c40-d320fc054258",
     "showTitle": false,
     "title": ""
    }
   },
   "outputs": [],
   "source": [
    "y = covid[covid['country'] == 'Italy'][['date', 'deaths']].set_index('date').iloc[::-1]"
   ]
  },
  {
   "cell_type": "code",
   "execution_count": null,
   "metadata": {
    "application/vnd.databricks.v1+cell": {
     "inputWidgets": {},
     "nuid": "fa504b78-94e1-4e87-9056-d6f30618e289",
     "showTitle": false,
     "title": ""
    }
   },
   "outputs": [],
   "source": [
    "aic = 2000\n",
    "\n",
    "for param in pdq:\n",
    "    for param_seasonal in seasonal_pdq:\n",
    "        try:\n",
    "            mod = sm.tsa.statespace.SARIMAX(y,\n",
    "                                            order=param,\n",
    "                                            seasonal_order=param_seasonal,\n",
    "                                            enforce_stationarity=False,\n",
    "                                            enforce_invertibility=False)\n",
    "            results = mod.fit()\n",
    "            #print('ARIMA{}x{} - AIC:{}'.format(param, param_seasonal, results.aic))\n",
    "            if results.aic < aic:\n",
    "              aic = results.aic\n",
    "              p = param\n",
    "              p_s = param_seasonal\n",
    "        except:\n",
    "            continue\n",
    "\n",
    "print(aic, p, p_s)"
   ]
  },
  {
   "cell_type": "code",
   "execution_count": null,
   "metadata": {
    "application/vnd.databricks.v1+cell": {
     "inputWidgets": {},
     "nuid": "df2faec4-b5df-43f0-aeed-91b05e9e03b3",
     "showTitle": false,
     "title": ""
    }
   },
   "outputs": [],
   "source": [
    "mod = sm.tsa.statespace.SARIMAX(y,\n",
    "                                order=p,\n",
    "                                seasonal_order=p_s,\n",
    "                                enforce_stationarity=False,\n",
    "                                enforce_invertibility=False)\n",
    "results = mod.fit();"
   ]
  },
  {
   "cell_type": "code",
   "execution_count": null,
   "metadata": {
    "application/vnd.databricks.v1+cell": {
     "inputWidgets": {},
     "nuid": "23cff125-ebbe-453f-8b65-589bff48d5c3",
     "showTitle": false,
     "title": ""
    }
   },
   "outputs": [],
   "source": [
    "pred = results.get_prediction(start=pd.to_datetime('2020-02-16'), dynamic=False)\n",
    "pred_ci = pred.conf_int()\n",
    "ax = y.plot(label='Observed')\n",
    "pred.predicted_mean.plot(ax=ax, label='Forecast', alpha=.7, figsize=(20, 10))\n",
    "ax.fill_between(pred_ci.index,\n",
    "                pred_ci.iloc[:, 0],\n",
    "                pred_ci.iloc[:, 1], color='k', alpha=.2)\n",
    "ax.set_xlabel('Date')\n",
    "ax.set_ylabel('COVID-19 Deaths')\n",
    "plt.legend()\n",
    "plt.show()"
   ]
  },
  {
   "cell_type": "code",
   "execution_count": null,
   "metadata": {
    "application/vnd.databricks.v1+cell": {
     "inputWidgets": {},
     "nuid": "d6ee5419-4f85-4754-ba49-57ca81ec2798",
     "showTitle": false,
     "title": ""
    }
   },
   "outputs": [],
   "source": [
    "pred_uc = results.get_forecast(steps=30)\n",
    "pred_ci = pred_uc.conf_int()\n",
    "ax = y.plot(label='Observed', figsize=(20, 10))\n",
    "pred_uc.predicted_mean.plot(ax=ax, label='Forecast')\n",
    "\n",
    "ax.set_xlabel('Date')\n",
    "ax.set_ylabel('COVID-19 cases')\n",
    "plt.legend()\n",
    "plt.show()"
   ]
  }
 ],
 "metadata": {
  "application/vnd.databricks.v1+notebook": {
   "dashboards": [],
   "language": "python",
   "notebookName": "Projekt COVID",
   "notebookOrigID": 2896581255921747,
   "widgets": {}
  },
  "kernelspec": {
   "display_name": "Python 3",
   "language": "python",
   "name": "python3"
  },
  "language_info": {
   "codemirror_mode": {
    "name": "ipython",
    "version": 3
   },
   "file_extension": ".py",
   "mimetype": "text/x-python",
   "name": "python",
   "nbconvert_exporter": "python",
   "pygments_lexer": "ipython3",
   "version": "3.7.1"
  }
 },
 "nbformat": 4,
 "nbformat_minor": 1
}
